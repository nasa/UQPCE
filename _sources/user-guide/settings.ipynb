{
 "cells": [
  {
   "cell_type": "markdown",
   "metadata": {},
   "source": [
    "\n",
    "# Settings\n",
    "\n",
    "This section will cover the UQPCE settings.\n",
    "\n",
    "## Options\n",
    "\n",
    "| Option | Description | \n",
    "| --- | --- |\n",
    "|``-i, --input-file``\t|\tfile containing variables *(default: 'input.yaml')*|\n",
    "|``-m, --matrix-file``\t|\tfile containing matrix elements *(default: 'run_matrix.dat')*|\n",
    "|``-r, --results-file``\t|\tfile containing results *(default: 'results.dat')*|\n",
    "|``--verification-matrix-file`` | \tfile containing verification matrix elements *(default: 'verification_run_matrix.dat')*|\n",
    "|``--verification-results-file`` |\tfile containing verification results *(default: 'verification_results.dat')*|\n",
    "|``--output-directory``\t|\tdirectory that the outputs will be put in *(default: 'outputs')*|\n",
    "|``-c, --case``\t\t|\tcase of input data *(default: None)*|\n",
    "|``-s, --significance``\t|\tsignificance level of the confidence interval *(default: 0.05)*|\n",
    "|``-o, --order``\t|\t\torder of polynomial chaos expansion *(default: 2)*|\n",
    "|``-f, --user-func``\t|\t\tallows the user to specify the analytical function for the data *(default: None)*|\n",
    "|``--over-samp-ratio``\t|\tover sampling ratio; factor for how many points to be used in calculations *(default: 2)*|\n",
    "|``--verify-over-samp-ratio`` |\tover sampling ratio for verification; factor for how many points to be used in calculations *(default: 0.5)*|\n",
    "|``-b, --backend``\t|\t\tthe backend that will be used for Matplotlib plotting *(default: 'TkAgg')*|\n",
    "|``--conv-threshold-percent`` |\tthe decimal percent of the response mean to be used as a threshold for tracking convergence *(default: 0.0005)*|\n",
    "|``--epist-samp-size``\t|\tthe number of times to sample for each variable with epistemic uncertainty *(default: 125)*|\n",
    "|``--aleat-samp-size``\t|\tthe number of times to sample for each varaible with aleatory uncertainty *(default: 25000)*|\n",
    "|``--epist-sub-samp-size``\t|\tthe number of curves to check the new high and low intervals at for a set of curves *(default: 25)*|\n",
    "|``--aleat-sub-samp-size``\t|\tthe number of samples to check the new high and low intervals at for each individual curve *(default: 5000)*|\n",
    "|``--sigfigs``\t|\t\tthe number of significant figures to output in the output files *(default: 5)*|\n",
    "|``--alpha-out``\t|\t\tthe alpha parameter used for the F-distribution threshold for values to be removed to the model *(default: 0.15)*|\n",
    "\n",
    "\t\n",
    "\t\n",
    "### Example\n",
    "\n",
    "When executing UQPCE as a script, options can be specified as"
   ]
  },
  {
   "cell_type": "raw",
   "metadata": {
    "vscode": {
     "languageId": "raw"
    }
   },
   "source": [
    "python -m uqpce --case 'casename'\n",
    "\n",
    "python -m uqpce -c 'casename'"
   ]
  },
  {
   "cell_type": "markdown",
   "metadata": {},
   "source": [
    "When executing UQPCE as a PCE object, options can be specified as"
   ]
  },
  {
   "cell_type": "code",
   "execution_count": 3,
   "metadata": {},
   "outputs": [],
   "source": [
    "from uqpce import PCE\n",
    "pce = PCE(case='casename')"
   ]
  },
  {
   "cell_type": "markdown",
   "metadata": {},
   "source": [
    "\n",
    "Both of these examples will set the case name of the model to ``'casename'`` and name the output directories accordingly.\n",
    "\n",
    "Flags\n",
    "\n",
    "| Option | Description | \n",
    "| --- | --- |\n",
    "|``-h, --help``\t\t|\tshow help message and exit\t|\n",
    "|``-v, --version``\t|\tdisplays the version of the software|\n",
    "|``--verbose``\t|\tincrease output verbosity|\n",
    "|``--verify``\t|\tallows verification of results|\n",
    "|``--plot``\t\t|\tgenerates factor vs response plots, pbox plot, and error plots|\n",
    "|``--track-convergence-off`` |allows users to converge on confidence interval until the change between the two iterations is less than the threshold|\n",
    "|``--generate-samples`` |\tgenerates the samples used for all variables according to the parameters provided in the input file|\n",
    "|``--model-conf-int`` |\tincludes uncertainties associated with the model itself|\n",
    "|``--stats``\t|\t\tperform additional statistics for a more-comprehensive profile of the model|\n",
    "|``--report``\t|\tgenerates a user-friendly report that documents the statistics and plots that suggest the model is insufficient|\n",
    "|``--seed``\t\t|\tif UQPCE should use a seed for random values|\n",
    "|``--backward-elimination`` |\tif UQPCE should use backward elimination after building the model|\n",
    "\n",
    "\n",
    "### Example\n",
    "\n",
    "When executing UQPCE as a script, options can be specified as"
   ]
  },
  {
   "cell_type": "raw",
   "metadata": {
    "vscode": {
     "languageId": "raw"
    }
   },
   "source": [
    "python -m uqpce --version\n",
    "\n",
    "python -m uqpce -v"
   ]
  },
  {
   "cell_type": "markdown",
   "metadata": {},
   "source": [
    "When executing UQPCE as a PCE object, flags can be specified as"
   ]
  },
  {
   "cell_type": "code",
   "execution_count": 5,
   "metadata": {},
   "outputs": [],
   "source": [
    "from uqpce import PCE\n",
    "pce = PCE(version=True)"
   ]
  },
  {
   "cell_type": "markdown",
   "metadata": {},
   "source": [
    "Both of these examples will output the version of UQPCE that is being used."
   ]
  }
 ],
 "metadata": {
  "kernelspec": {
   "display_name": "mbsae4me",
   "language": "python",
   "name": "python3"
  },
  "language_info": {
   "codemirror_mode": {
    "name": "ipython",
    "version": 3
   },
   "file_extension": ".py",
   "mimetype": "text/x-python",
   "name": "python",
   "nbconvert_exporter": "python",
   "pygments_lexer": "ipython3",
   "version": "3.8.13"
  }
 },
 "nbformat": 4,
 "nbformat_minor": 2
}
